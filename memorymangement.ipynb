{
 "cells": [
  {
   "cell_type": "code",
   "execution_count": 4,
   "id": "ebcb9231-358d-48a8-9d20-069f655e65e8",
   "metadata": {},
   "outputs": [
    {
     "name": "stdout",
     "output_type": "stream",
     "text": [
      "Hello, World!\n"
     ]
    },
    {
     "data": {
      "text/plain": [
       "'include <stdio.h>\\nint main() {\\n    printf(\"Hello, World!\\n\");\\n    return 0;\\n}\\n'"
      ]
     },
     "execution_count": 4,
     "metadata": {},
     "output_type": "execute_result"
    }
   ],
   "source": [
    "#1. What is the difference between interpreted and compiled languages?\n",
    "'''The key difference between interpreted and compiled languages lies in how they execute code:\n",
    "\n",
    "1. **Interpreted Languages**:\n",
    "   - Code is executed line-by-line by an interpreter.\n",
    "   - Examples: Python, JavaScript, Ruby.\n",
    "   - Slower execution but allows dynamic coding and easier debugging.\n",
    "\n",
    "2. **Compiled Languages**:\n",
    "   - Code is converted to machine code by a compiler before execution.\n",
    "   - Examples: C, C++, Rust.\n",
    "   - Faster execution but requires compilation before running the program.\n",
    "\n",
    "Python is interpreted, while C is a compiled language.'''\n",
    "\n",
    "'''1. Interpreted Languages\n",
    "Execution: Code is executed line-by-line using an interpreter.'''\n",
    "#Example:\n",
    "\n",
    "print(\"Hello, World!\")\n",
    "\n",
    "'''2. Compiled Languages\n",
    "Execution: Code is translated into machine code using a compiler, then executed.'''\n",
    "#Example:\n",
    "\n",
    "'''include <stdio.h>\n",
    "int main() {\n",
    "    printf(\"Hello, World!\\n\");\n",
    "    return 0;\n",
    "}\n",
    "'''\n"
   ]
  },
  {
   "cell_type": "code",
   "execution_count": 17,
   "id": "f4570fd8-1367-46a4-8153-2542b0750419",
   "metadata": {},
   "outputs": [
    {
     "data": {
      "text/plain": [
       "'Exception handling in Python is a mechanism to manage errors or exceptions that occur during the execution of a program, \\nallowing the program to continue running instead of crashing. It uses try, except, else, and finally blocks to catch and\\nhandle exceptions.'"
      ]
     },
     "execution_count": 17,
     "metadata": {},
     "output_type": "execute_result"
    }
   ],
   "source": [
    "#2.  What is exception handling in Python?\n",
    "'''Exception handling in Python is a mechanism to manage errors or exceptions that occur during the execution of a program, \n",
    "allowing the program to continue running instead of crashing. It uses try, except, else, and finally blocks to catch and\n",
    "handle exceptions.'''\n"
   ]
  },
  {
   "cell_type": "code",
   "execution_count": 18,
   "id": "668f1f4c-49c6-4821-9ed6-8f99f0717a27",
   "metadata": {},
   "outputs": [
    {
     "data": {
      "text/plain": [
       "'The purpose of the finally block in Python exception handling is to ensure that specific code \\nis executed regardless of whether an exception occurs or not.\\nIt is commonly used for cleanup tasks like closing files, releasing resources, or resetting states.'"
      ]
     },
     "execution_count": 18,
     "metadata": {},
     "output_type": "execute_result"
    }
   ],
   "source": [
    "#3. What is the purpose of the finally block in exception handling?\n",
    "'''The purpose of the finally block in Python exception handling is to ensure that specific code \n",
    "is executed regardless of whether an exception occurs or not.\n",
    "It is commonly used for cleanup tasks like closing files, releasing resources, or resetting states.'''\n",
    "\n"
   ]
  },
  {
   "cell_type": "code",
   "execution_count": 19,
   "id": "7139da16-9d56-4cb5-859b-e2be3e907229",
   "metadata": {},
   "outputs": [
    {
     "data": {
      "text/plain": [
       "\"Logging in Python is a built-in module that allows you to record messages about a program's execution. \\nIt is primarily used for debugging, monitoring, and understanding the flow of the program. The module provides\\na flexible way to log events, errors, warnings, or debugging information.\""
      ]
     },
     "execution_count": 19,
     "metadata": {},
     "output_type": "execute_result"
    }
   ],
   "source": [
    "#4. What is logging in Python?\n",
    "'''Logging in Python is a built-in module that allows you to record messages about a program's execution. \n",
    "It is primarily used for debugging, monitoring, and understanding the flow of the program. The module provides\n",
    "a flexible way to log events, errors, warnings, or debugging information.'''\n"
   ]
  },
  {
   "cell_type": "code",
   "execution_count": 20,
   "id": "653e0ee9-8008-4ea0-b7c3-bab99ef15759",
   "metadata": {},
   "outputs": [
    {
     "data": {
      "text/plain": [
       "'The __del__ method in Python is a special method (also known as a destructor) that is called\\nwhen an object is about to be destroyed or garbage collected. Its primary purpose is to perform \\ncleanup tasks like closing files or releasing resources before the object is removed from memory.'"
      ]
     },
     "execution_count": 20,
     "metadata": {},
     "output_type": "execute_result"
    }
   ],
   "source": [
    "#5. What is the significance of the __del__ method in Python?\n",
    "'''The __del__ method in Python is a special method (also known as a destructor) that is called\n",
    "when an object is about to be destroyed or garbage collected. Its primary purpose is to perform \n",
    "cleanup tasks like closing files or releasing resources before the object is removed from memory.'''\n",
    "\n"
   ]
  },
  {
   "cell_type": "code",
   "execution_count": 10,
   "id": "83cde7e1-da3a-45ac-af86-330325d94904",
   "metadata": {},
   "outputs": [
    {
     "name": "stdout",
     "output_type": "stream",
     "text": [
      "4.0\n",
      "4.0\n"
     ]
    },
    {
     "data": {
      "text/plain": [
       "'Use import for clarity and from ... import for brevity when specific functions are frequently used.'"
      ]
     },
     "execution_count": 10,
     "metadata": {},
     "output_type": "execute_result"
    }
   ],
   "source": [
    "#6.  What is the difference between import and from ... import in Python?\n",
    "'''The difference between import and from ... import in Python lies in how they bring functions,\n",
    "classes, or modules into your program:'''\n",
    "\n",
    "#1.import: Imports the entire module. To access its functions or variables, you must prefix them with the module name.\n",
    "#Example:\n",
    "import math\n",
    "print(math.sqrt(16))  # Access with 'math.'\n",
    "\n",
    "#from ... import: Imports specific functions, classes, or variables from a module. No need to prefix them with the module name.\n",
    "#Example:\n",
    "from math import sqrt\n",
    "print(sqrt(16))  # Direct access\n",
    "\n",
    "'''Use import for clarity and from ... import for brevity when specific functions are frequently used.'''"
   ]
  },
  {
   "cell_type": "code",
   "execution_count": 12,
   "id": "8a38fb2c-4496-4c00-b985-1acbc2974b1c",
   "metadata": {},
   "outputs": [
    {
     "name": "stdin",
     "output_type": "stream",
     "text": [
      "Enter a number:  0\n"
     ]
    },
    {
     "name": "stdout",
     "output_type": "stream",
     "text": [
      "Cannot divide by zero.\n"
     ]
    },
    {
     "name": "stdin",
     "output_type": "stream",
     "text": [
      "Enter a number:  0\n"
     ]
    },
    {
     "name": "stdout",
     "output_type": "stream",
     "text": [
      "Error occurred: division by zero\n"
     ]
    }
   ],
   "source": [
    "#7. How can you handle multiple exceptions in Python?\n",
    "'''In Python, multiple exceptions can be handled using a single try block and multiple except blocks.\n",
    "Alternatively, you can handle multiple exceptions in a single block by specifying them as a tuple. Here's how:'''\n",
    "#Example 1: Multiple except Blocks\n",
    "try:\n",
    "    x = int(input(\"Enter a number: \"))\n",
    "    result = 10 / x\n",
    "except ValueError:\n",
    "    print(\"Invalid input! Please enter a valid number.\")\n",
    "except ZeroDivisionError:\n",
    "    print(\"Cannot divide by zero.\")\n",
    "\n",
    "#Example 2: Handling Multiple Exceptions in One Block\n",
    "try:\n",
    "    x = int(input(\"Enter a number: \"))\n",
    "    result = 10 / x\n",
    "except (ValueError, ZeroDivisionError) as e:\n",
    "    print(f\"Error occurred: {e}\")\n"
   ]
  },
  {
   "cell_type": "code",
   "execution_count": 14,
   "id": "cac4b5f2-1421-4816-befa-7311adbee543",
   "metadata": {},
   "outputs": [
    {
     "name": "stdout",
     "output_type": "stream",
     "text": [
      "File not found.\n"
     ]
    }
   ],
   "source": [
    "#8 What is the purpose of the with statement when handling files in Python?\n",
    "'''The with statement in Python ensures proper handling of resources, such as files, by automatically managing their lifecycle.\n",
    "When working with files, it ensures that the file is properly opened and closed, even if an exception occurs. This eliminates \n",
    "the need to explicitly call close().'''\n",
    "\n",
    "\n"
   ]
  },
  {
   "cell_type": "code",
   "execution_count": null,
   "id": "d3c6ca0e-c324-4741-91ab-d5cb78b0dcda",
   "metadata": {},
   "outputs": [],
   "source": [
    "#9.  What is the difference between multithreading and multiprocessing?\n",
    "'''The key difference between **multithreading** and **multiprocessing** lies in how they handle tasks:\n",
    "\n",
    "1. **Multithreading**: Involves multiple threads within the same process, sharing the same memory space. It's useful for I/O-bound tasks but can be limited by Python’s Global Interpreter Lock (GIL), which restricts the execution of threads in a CPU-bound task.\n",
    "\n",
    "2. **Multiprocessing**: Involves multiple processes, each with its own memory space. It’s better for CPU-bound tasks as each process runs independently, bypassing the GIL.\n",
    "\n",
    "Both approaches allow parallelism but differ in handling resources and efficiency.'''"
   ]
  },
  {
   "cell_type": "code",
   "execution_count": null,
   "id": "032ad15b-3a7f-4bfe-a0cd-3f68b02859db",
   "metadata": {},
   "outputs": [],
   "source": [
    "#10.  What are the advantages of using logging in a program?\n",
    "'''The advantages of using logging in a program are:\n",
    "\n",
    "1. **Error tracking**: It helps in tracking errors, warnings, and info messages, making debugging easier.\n",
    "2. **Persistency**: Logs can be saved to files for later analysis, even after the program finishes executing.\n",
    "3. **Customizable severity levels**: Logs allow categorizing messages with levels like `DEBUG`, `INFO`, `WARNING`, `ERROR`, and `CRITICAL`.\n",
    "4. **Performance monitoring**: Logging can track performance bottlenecks by recording timestamps and durations of key operations.\n",
    "5. **Non-intrusive**: It allows monitoring without interrupting the normal flow of the application.'''\n",
    "\n"
   ]
  },
  {
   "cell_type": "code",
   "execution_count": null,
   "id": "383ad4a8-c002-4e27-a6e3-cf11a05c5bb0",
   "metadata": {},
   "outputs": [],
   "source": [
    "#11.  What is memory management in Python?\n",
    "'''Memory management in Python involves the efficient allocation and deallocation of memory resources for objects.\n",
    "It uses automatic garbage collection to reclaim memory from unused objects. Python's memory management system \n",
    "includes the private heap space for all objects and data structures, and a reference counting mechanism that \n",
    "tracks the number of references to an object. When the reference count reaches zero, the object is deleted. \n",
    "Additionally, Python has a built-in garbage collector that cleans up cyclic references that cannot be handled\n",
    "by reference counting alone.'''"
   ]
  },
  {
   "cell_type": "code",
   "execution_count": 16,
   "id": "0fd8288f-9e86-4a36-8563-eca64eb19c46",
   "metadata": {},
   "outputs": [
    {
     "data": {
      "text/plain": [
       "'\\ntry:\\n    # code that may cause exception\\nexcept ExceptionType:\\n    # handle exception\\nelse:\\n    # run if no exception\\nfinally:\\n    # cleanup code\\n'"
      ]
     },
     "execution_count": 16,
     "metadata": {},
     "output_type": "execute_result"
    }
   ],
   "source": [
    "#12.  What are the basic steps involved in exception handling in Python?\n",
    "'''The basic steps involved in exception handling in Python are:\n",
    "\n",
    "1. **Try Block**: Code that might raise an exception is placed inside the `try` block.\n",
    "2. **Except Block**: If an exception occurs, the `except` block handles it. You can specify the type of exception to catch.\n",
    "3. **Else Block**: (Optional) Code that runs if no exception occurs.\n",
    "4. **Finally Block**: (Optional) Code that runs no matter what, even if an exception occurs or not. It is used for cleanup tasks.'''\n",
    "\n",
    "#Example:\n",
    "'''\n",
    "try:\n",
    "    # code that may cause exception\n",
    "except ExceptionType:\n",
    "    # handle exception\n",
    "else:\n",
    "    # run if no exception\n",
    "finally:\n",
    "    # cleanup code\n",
    "'''\n"
   ]
  },
  {
   "cell_type": "code",
   "execution_count": null,
   "id": "853fc480-cc56-470e-9e69-acce24dc9de6",
   "metadata": {},
   "outputs": [],
   "source": [
    "#13. Why is memory management important in Python? \n",
    "'''Memory management in Python is crucial because it helps optimize resource usage, \n",
    "ensures efficient memory allocation, and prevents memory leaks. Python uses automatic \n",
    "memory management with reference counting and garbage collection to handle memory \n",
    "efficiently, reducing the risk of manual errors that can lead to crashes or performance degradation.'''"
   ]
  },
  {
   "cell_type": "code",
   "execution_count": null,
   "id": "4bcd969c-7a4d-4182-ba1c-ba4b41bf5d1d",
   "metadata": {},
   "outputs": [],
   "source": [
    "#14. What is the role of try and except in exception handling? \n",
    "'''The try block contains code that may raise an exception. The except block catches and\n",
    "handles specific exceptions, preventing program crashes. It helps in debugging by allowing \n",
    "the programmer to handle unexpected errors gracefully, providing alternative solutions or\n",
    "logging details for further analysis.'''"
   ]
  },
  {
   "cell_type": "code",
   "execution_count": null,
   "id": "97eae9ce-5ffd-4edf-86a4-f0f6439c9748",
   "metadata": {},
   "outputs": [],
   "source": [
    "#15. How does Python's garbage collection system work?\n",
    "'''Python's garbage collection system works by using reference counting, where each object\n",
    "maintains a reference count. When the reference count drops to zero, the object is automatically deleted.\n",
    "Additionally, the garbage collector identifies and clears circular references that reference counting \n",
    "alone cannot handle, ensuring efficient memory use.'''"
   ]
  },
  {
   "cell_type": "code",
   "execution_count": null,
   "id": "35f35597-4a37-4320-9a28-b437f0e1fe1b",
   "metadata": {},
   "outputs": [],
   "source": [
    "#16. What is the purpose of the else block in exception handling?\n",
    "'''The else block in exception handling runs if no exception occurs in the try block. \n",
    "It allows the programmer to specify code that should execute only when no errors are \n",
    "encountered, providing a cleaner structure for success and failure handling in the program.'''"
   ]
  },
  {
   "cell_type": "code",
   "execution_count": null,
   "id": "a80973e8-b09b-4d59-b130-b45ee4b056c5",
   "metadata": {},
   "outputs": [],
   "source": [
    "#17. What are the common logging levels in Python?\n",
    "'''Common logging levels in Python are:\n",
    "\n",
    "DEBUG: Detailed information for diagnosing issues.\n",
    "INFO: General information about program execution.\n",
    "WARNING: Indicates a potential problem.\n",
    "ERROR: Logs errors that prevent the program from functioning correctly.\n",
    "CRITICAL: Severe errors that may cause the program to stop running.'''"
   ]
  },
  {
   "cell_type": "code",
   "execution_count": null,
   "id": "c90778ba-9880-4fbe-80a1-032c51d0cfd5",
   "metadata": {},
   "outputs": [],
   "source": [
    "#18. What is the difference between os.fork() and multiprocessing in Python?\n",
    "'''os.fork() creates a new child process by duplicating the calling process, \n",
    "but it's available only in Unix-like systems. It provides a low-level way to create processes.\n",
    "In contrast, the multiprocessing module is a higher-level interface that provides \n",
    "platform-independent ways to create and manage processes, making it more suitable for modern Python programs.'''"
   ]
  },
  {
   "cell_type": "code",
   "execution_count": null,
   "id": "8a34f9fb-7bc0-42d3-a949-ef8df5e2d4c9",
   "metadata": {},
   "outputs": [],
   "source": [
    "#19. What is the importance of closing a file in Python?\n",
    "'''Closing a file in Python ensures that all the data is properly written to the disk and frees up system resources.\n",
    "If a file is not closed, it can lead to resource leaks, causing memory issues or preventing other programs from \n",
    "accessing the file. Using with statements automatically handles file closure.'''"
   ]
  },
  {
   "cell_type": "code",
   "execution_count": null,
   "id": "6508de08-51cd-4290-ab1f-9b2963e066ea",
   "metadata": {},
   "outputs": [],
   "source": [
    "#20. What is the difference between file.read() and file.readline() in Python?\n",
    "'''file.read() reads the entire file content as a single string, whereas file.readline() reads \n",
    "one line at a time. read() is useful when you want to process the entire file at once,\n",
    "while readline() is better for iterating over lines in a file without loading the entire content into memory.'''"
   ]
  },
  {
   "cell_type": "code",
   "execution_count": null,
   "id": "1f7ad1d2-b04f-4c3c-943f-b2c80567d9f0",
   "metadata": {},
   "outputs": [],
   "source": [
    "#21. What is the logging module in Python used for?\n",
    "'''The logging module in Python is used for tracking and recording program events, errors, and diagnostic information.\n",
    "It helps developers monitor application behavior and diagnose problems, and it allows configuring different \n",
    "logging levels (e.g., DEBUG, INFO) for better debugging and production monitoring.'''"
   ]
  },
  {
   "cell_type": "code",
   "execution_count": null,
   "id": "81850d76-4ea0-4ce6-9e5a-a2d658a1b32a",
   "metadata": {},
   "outputs": [],
   "source": [
    "#22. What is the os module in Python used for in file handling?\n",
    "'''The os module in Python provides functions for interacting with the operating system, including file handling.\n",
    "It allows you to create, remove, and manipulate files and directories, change file permissions, and work with file paths.\n",
    "It’s essential for tasks like navigating directories or checking if files exist.'''"
   ]
  },
  {
   "cell_type": "code",
   "execution_count": null,
   "id": "a954e729-a406-421b-ac10-8c393f0a50e8",
   "metadata": {},
   "outputs": [],
   "source": [
    "#23. What are the challenges associated with memory management in Python?\n",
    "'''Challenges in Python memory management include managing memory for objects with circular references,\n",
    "keeping track of memory usage in large programs, and efficiently handling large datasets.\n",
    "Although Python handles garbage collection, developers must still optimize memory usage to prevent leaks and ensure performance.'''"
   ]
  },
  {
   "cell_type": "code",
   "execution_count": null,
   "id": "33af8f22-61c8-4a7f-9f33-d0d32c4b29d4",
   "metadata": {},
   "outputs": [],
   "source": [
    "#24. How do you raise an exception manually in Python?\n",
    "'''In Python, you can manually raise an exception using the raise keyword followed\n",
    "by the exception type. For example, raise ValueError(\"Invalid value\") raises a \n",
    "ValueError with a custom error message.'''"
   ]
  },
  {
   "cell_type": "code",
   "execution_count": null,
   "id": "7bb57fc6-e850-42b2-a234-aa27163e02b7",
   "metadata": {},
   "outputs": [],
   "source": [
    "#25. Why is it important to use multithreading in certain applications?\n",
    "'''Multithreading is essential in applications that require concurrent execution of tasks, \n",
    "such as web servers or GUI applications. It allows the program to perform multiple tasks simultaneously,\n",
    "improving efficiency and responsiveness, particularly when handling I/O-bound operations. However, \n",
    "it requires careful synchronization to avoid issues with shared data.'''"
   ]
  },
  {
   "cell_type": "code",
   "execution_count": null,
   "id": "18cd8d05-3970-4485-b255-47c9ae588c55",
   "metadata": {},
   "outputs": [],
   "source": [
    "#PRACTICAL QUESTIONS"
   ]
  },
  {
   "cell_type": "code",
   "execution_count": 21,
   "id": "d9cc868a-6993-4114-8635-c68a543f79d9",
   "metadata": {},
   "outputs": [
    {
     "data": {
      "text/plain": [
       "'This code uses the with statement to ensure the file is properly closed after writing. If the file already exists, its content will be overwritten.'"
      ]
     },
     "execution_count": 21,
     "metadata": {},
     "output_type": "execute_result"
    }
   ],
   "source": [
    "#1. How can you open a file for writing in Python and write a string to it?\n",
    "'''In Python, you can open a file for writing and write a string to it using the following code:'''\n",
    "\n",
    "# Open a file for writing (creates the file if it doesn't exist)\n",
    "with open(\"example.txt\", \"w\") as file:\n",
    "    # Write a string to the file\n",
    "    file.write(\"Hello, World!\")\n",
    "'''This code uses the with statement to ensure the file is properly closed after writing. If the file already exists, its content will be overwritten.'''"
   ]
  },
  {
   "cell_type": "code",
   "execution_count": 22,
   "id": "cd003456-7cca-4330-ba50-f05ddd1267c6",
   "metadata": {},
   "outputs": [
    {
     "name": "stdout",
     "output_type": "stream",
     "text": [
      "Hello, World!\n"
     ]
    },
    {
     "data": {
      "text/plain": [
       "'Explanation:\\nThe with statement ensures the file is closed automatically after reading.\\nstrip() is used to remove any extra whitespace or newline characters at the end of each line.'"
      ]
     },
     "execution_count": 22,
     "metadata": {},
     "output_type": "execute_result"
    }
   ],
   "source": [
    "#2. Write a Python program to read the contents of a file and print each line.\n",
    "\n",
    "# Open the file for reading\n",
    "with open(\"example.txt\", \"r\") as file:\n",
    "    # Iterate through each line in the file\n",
    "    for line in file:\n",
    "        print(line.strip())  # Print the line without leading/trailing whitespace\n",
    "\n",
    "'''Explanation:\n",
    "The with statement ensures the file is closed automatically after reading.\n",
    "strip() is used to remove any extra whitespace or newline characters at the end of each line.'''"
   ]
  },
  {
   "cell_type": "code",
   "execution_count": 23,
   "id": "8d64072c-fa24-4cc7-ad2d-debabfd008f0",
   "metadata": {},
   "outputs": [
    {
     "name": "stdout",
     "output_type": "stream",
     "text": [
      "Error: The file does not exist.\n"
     ]
    },
    {
     "data": {
      "text/plain": [
       "'Explanation:\\ntry block: Attempts to open the file for reading.\\nexcept FileNotFoundError: Catches the error if the file is missing and provides a user-friendly message or alternative handling.'"
      ]
     },
     "execution_count": 23,
     "metadata": {},
     "output_type": "execute_result"
    }
   ],
   "source": [
    "#3. How would you handle a case where the file doesn't exist while trying to open it for reading?\n",
    "'''To handle the case where the file doesn’t exist while opening it for reading, We can use a try-except block:'''\n",
    "#Example:\n",
    "try:\n",
    "    with open(\"nonexistent_file.txt\", \"r\") as file:\n",
    "        for line in file:\n",
    "            print(line.strip())\n",
    "except FileNotFoundError:\n",
    "    print(\"Error: The file does not exist.\")\n",
    "\n",
    "'''Explanation:\n",
    "try block: Attempts to open the file for reading.\n",
    "except FileNotFoundError: Catches the error if the file is missing and provides a user-friendly message or alternative handling.'''\n"
   ]
  },
  {
   "cell_type": "code",
   "execution_count": 25,
   "id": "0aa9806e-18b9-4cac-a909-9e291b1d68f1",
   "metadata": {},
   "outputs": [
    {
     "name": "stdout",
     "output_type": "stream",
     "text": [
      "Error: The source file does not exist. Please check the file name or path.\n"
     ]
    }
   ],
   "source": [
    "#4. Write a Python script that reads from one file and writes its content to another file.\n",
    "\n",
    "try:\n",
    "    with open(\"source.txt\", \"r\") as source_file:\n",
    "        content = source_file.read()\n",
    "\n",
    "    with open(\"destination.txt\", \"w\") as destination_file:\n",
    "        destination_file.write(content)\n",
    "\n",
    "    print(\"Content copied successfully!\")\n",
    "except FileNotFoundError:\n",
    "    print(\"Error: The source file does not exist. Please check the file name or path.\")\n",
    "\n"
   ]
  },
  {
   "cell_type": "code",
   "execution_count": 26,
   "id": "e096f424-7061-458d-9aaf-3b28afc9f189",
   "metadata": {},
   "outputs": [
    {
     "name": "stdout",
     "output_type": "stream",
     "text": [
      "Error: Division by zero is not allowed.\n",
      "Operation complete.\n"
     ]
    },
    {
     "data": {
      "text/plain": [
       "\"Explanation:\\nThe try block contains the code that might raise the ZeroDivisionError.\\nThe except ZeroDivisionError block handles the specific error, ensuring the program doesn't crash.\\nThe finally block ensures that cleanup or additional messages execute regardless of the outcome.\""
      ]
     },
     "execution_count": 26,
     "metadata": {},
     "output_type": "execute_result"
    }
   ],
   "source": [
    "#5.  How would you catch and handle division by zero error in Python?\n",
    "\n",
    "def divide_numbers(a, b):\n",
    "    try:\n",
    "        result = a / b\n",
    "        print(\"Result:\", result)\n",
    "    except ZeroDivisionError:\n",
    "        print(\"Error: Division by zero is not allowed.\")\n",
    "    finally:\n",
    "        print(\"Operation complete.\")\n",
    "\n",
    "# Example usage\n",
    "divide_numbers(10, 0)\n",
    "\n",
    "'''Explanation:\n",
    "The try block contains the code that might raise the ZeroDivisionError.\n",
    "The except ZeroDivisionError block handles the specific error, ensuring the program doesn't crash.\n",
    "The finally block ensures that cleanup or additional messages execute regardless of the outcome.'''\n"
   ]
  },
  {
   "cell_type": "code",
   "execution_count": 27,
   "id": "a4445ce7-6789-4494-be67-b2d51786dd18",
   "metadata": {},
   "outputs": [
    {
     "name": "stderr",
     "output_type": "stream",
     "text": [
      "ERROR:root:Error: Division by zero. Attempted to divide 10 by 0.\n"
     ]
    },
    {
     "name": "stdout",
     "output_type": "stream",
     "text": [
      "Error: Division by zero is not allowed.\n",
      "Operation complete.\n"
     ]
    },
    {
     "data": {
      "text/plain": [
       "'Explanation:\\nThe logging.basicConfig function sets up the log file (error_log.txt) and specifies the logging level.\\nIf a ZeroDivisionError occurs, the error is logged in error_log.txt with a message including the attempted division.'"
      ]
     },
     "execution_count": 27,
     "metadata": {},
     "output_type": "execute_result"
    }
   ],
   "source": [
    "#6.  Write a Python program that logs an error message to a log file when a division by zero exception occurs.\n",
    "\n",
    "import logging\n",
    "\n",
    "# Configure logging to log to a file\n",
    "logging.basicConfig(filename='error_log.txt', level=logging.ERROR)\n",
    "\n",
    "def divide_numbers(a, b):\n",
    "    try:\n",
    "        result = a / b\n",
    "        print(\"Result:\", result)\n",
    "    except ZeroDivisionError as e:\n",
    "        logging.error(\"Error: Division by zero. Attempted to divide %d by %d.\", a, b)\n",
    "        print(\"Error: Division by zero is not allowed.\")\n",
    "    finally:\n",
    "        print(\"Operation complete.\")\n",
    "\n",
    "# Example usage\n",
    "divide_numbers(10, 0)\n",
    "\n",
    "'''Explanation:\n",
    "The logging.basicConfig function sets up the log file (error_log.txt) and specifies the logging level.\n",
    "If a ZeroDivisionError occurs, the error is logged in error_log.txt with a message including the attempted division.'''"
   ]
  },
  {
   "cell_type": "code",
   "execution_count": 28,
   "id": "0504ed59-3d81-458b-a9d1-8f6cc5ac06b5",
   "metadata": {},
   "outputs": [
    {
     "name": "stderr",
     "output_type": "stream",
     "text": [
      "INFO:root:This is an INFO message.\n",
      "WARNING:root:This is a WARNING message.\n",
      "ERROR:root:This is an ERROR message.\n",
      "CRITICAL:root:This is a CRITICAL message.\n"
     ]
    },
    {
     "data": {
      "text/plain": [
       "'Explanation:\\nLevels:\\n\\nDEBUG: Detailed information for diagnosing issues.\\nINFO: Confirmation that things are working as expected.\\nWARNING: An indication of something unexpected.\\nERROR: A serious problem.\\nCRITICAL: A very serious error.\\n\\nConfiguration:\\n\\nlevel=logging.DEBUG: Sets the minimum level of messages to log.\\nformat: Specifies the format for log messages.\\nLogs will display in the console with their respective severity levels.'"
      ]
     },
     "execution_count": 28,
     "metadata": {},
     "output_type": "execute_result"
    }
   ],
   "source": [
    "#7. How do you log information at different levels (INFO, ERROR, WARNING) in Python using the logging module?\n",
    "\n",
    "import logging\n",
    "\n",
    "# Configure logging\n",
    "logging.basicConfig(level=logging.DEBUG, format='%(levelname)s: %(message)s')\n",
    "\n",
    "# Log messages at different levels\n",
    "logging.debug(\"This is a DEBUG message.\")\n",
    "logging.info(\"This is an INFO message.\")\n",
    "logging.warning(\"This is a WARNING message.\")\n",
    "logging.error(\"This is an ERROR message.\")\n",
    "logging.critical(\"This is a CRITICAL message.\")\n",
    "\n",
    "'''Explanation:\n",
    "Levels:\n",
    "\n",
    "DEBUG: Detailed information for diagnosing issues.\n",
    "INFO: Confirmation that things are working as expected.\n",
    "WARNING: An indication of something unexpected.\n",
    "ERROR: A serious problem.\n",
    "CRITICAL: A very serious error.\n",
    "\n",
    "Configuration:\n",
    "\n",
    "level=logging.DEBUG: Sets the minimum level of messages to log.\n",
    "format: Specifies the format for log messages.\n",
    "Logs will display in the console with their respective severity levels.'''"
   ]
  },
  {
   "cell_type": "code",
   "execution_count": 29,
   "id": "667c5026-cf00-49b8-b02d-826269ef4cdd",
   "metadata": {},
   "outputs": [
    {
     "name": "stdout",
     "output_type": "stream",
     "text": [
      "Error: The file does not exist. Please check the file path.\n"
     ]
    },
    {
     "data": {
      "text/plain": [
       "'Explanation:\\nFileNotFoundError: Handles the case where the file does not exist.\\nPermissionError: Handles insufficient file access permissions.\\nException: Captures any other unexpected exceptions.'"
      ]
     },
     "execution_count": 29,
     "metadata": {},
     "output_type": "execute_result"
    }
   ],
   "source": [
    "#8. Write a program to handle a file opening error using exception handling.\n",
    "\n",
    "def open_file_safely(file_path):\n",
    "    \"\"\"\n",
    "    Function to safely open a file and handle any errors that occur.\n",
    "\n",
    "    Args:\n",
    "    file_path (str): The path to the file to be opened.\n",
    "\n",
    "    Returns:\n",
    "    None\n",
    "    \"\"\"\n",
    "    try:\n",
    "        with open(file_path, 'r') as file:\n",
    "            content = file.read()\n",
    "            print(\"File content:\\n\", content)\n",
    "    except FileNotFoundError:\n",
    "        print(\"Error: The file does not exist. Please check the file path.\")\n",
    "    except PermissionError:\n",
    "        print(\"Error: You do not have the necessary permissions to access this file.\")\n",
    "    except Exception as e:\n",
    "        print(f\"An unexpected error occurred: {e}\")\n",
    "\n",
    "# Example usage\n",
    "file_path = \"non_existent_file.txt\"\n",
    "open_file_safely(file_path)\n",
    "\n",
    "'''Explanation:\n",
    "FileNotFoundError: Handles the case where the file does not exist.\n",
    "PermissionError: Handles insufficient file access permissions.\n",
    "Exception: Captures any other unexpected exceptions.'''"
   ]
  },
  {
   "cell_type": "code",
   "execution_count": 30,
   "id": "b4a27718-11b8-4dde-a36d-188dbe4fe972",
   "metadata": {},
   "outputs": [
    {
     "name": "stdout",
     "output_type": "stream",
     "text": [
      "File Content as List: ['Hello, World!']\n"
     ]
    },
    {
     "data": {
      "text/plain": [
       "\"Explanation:\\nopen(file_path, 'r'): Opens the file in read mode.\\nList comprehension: Iterates through each line in the file, strips extra spaces or newline characters, and stores the line in a list.\\nException Handling: Ensures errors like file not found are managed gracefully.\""
      ]
     },
     "execution_count": 30,
     "metadata": {},
     "output_type": "execute_result"
    }
   ],
   "source": [
    "#9. How can you read a file line by line and store its content in a list in Python?\n",
    "\n",
    "def read_file_to_list(file_path):\n",
    "    \"\"\"\n",
    "    Reads a file line by line and stores its content in a list.\n",
    "\n",
    "    Args:\n",
    "    file_path (str): Path to the file.\n",
    "\n",
    "    Returns:\n",
    "    list: List containing lines of the file.\n",
    "    \"\"\"\n",
    "    try:\n",
    "        with open(file_path, 'r') as file:\n",
    "            lines = [line.strip() for line in file]\n",
    "        return lines\n",
    "    except FileNotFoundError:\n",
    "        print(\"Error: File not found.\")\n",
    "        return []\n",
    "    except Exception as e:\n",
    "        print(f\"An error occurred: {e}\")\n",
    "        return []\n",
    "\n",
    "# Example usage\n",
    "file_path = \"example.txt\"  # Replace with your file path\n",
    "file_lines = read_file_to_list(file_path)\n",
    "print(\"File Content as List:\", file_lines)\n",
    "\n",
    "'''Explanation:\n",
    "open(file_path, 'r'): Opens the file in read mode.\n",
    "List comprehension: Iterates through each line in the file, strips extra spaces or newline characters, and stores the line in a list.\n",
    "Exception Handling: Ensures errors like file not found are managed gracefully.'''"
   ]
  },
  {
   "cell_type": "code",
   "execution_count": 31,
   "id": "a721a6d3-a7ba-480e-997c-4d3174c5943e",
   "metadata": {},
   "outputs": [
    {
     "name": "stdout",
     "output_type": "stream",
     "text": [
      "Data appended successfully!\n"
     ]
    },
    {
     "data": {
      "text/plain": [
       "\"Explanation:\\n'a' mode: Opens the file in append mode, so new data is added to the end of the file.\\nfile.write(data): Writes the new data to the file.\""
      ]
     },
     "execution_count": 31,
     "metadata": {},
     "output_type": "execute_result"
    }
   ],
   "source": [
    "#10.  How can you append data to an existing file in Python?\n",
    "'''To append data to an existing file in Python, you can open the file in append mode using 'a'. Here's a simple example:'''\n",
    "\n",
    "def append_to_file(file_path, data):\n",
    "    try:\n",
    "        with open(file_path, 'a') as file:  # Open file in append mode\n",
    "            file.write(data + '\\n')  # Write data to the file\n",
    "        print(\"Data appended successfully!\")\n",
    "    except Exception as e:\n",
    "        print(f\"An error occurred: {e}\")\n",
    "\n",
    "# Example usage\n",
    "file_path = \"example.txt\"  # Replace with your file path\n",
    "append_to_file(file_path, \"This is the new line of text.\")\n",
    "\n",
    "'''Explanation:\n",
    "'a' mode: Opens the file in append mode, so new data is added to the end of the file.\n",
    "file.write(data): Writes the new data to the file.'''"
   ]
  },
  {
   "cell_type": "code",
   "execution_count": 32,
   "id": "30c01819-6008-45e5-ba3d-74c1297a3ded",
   "metadata": {},
   "outputs": [
    {
     "name": "stdout",
     "output_type": "stream",
     "text": [
      "Error: The key 'address' does not exist in the dictionary.\n"
     ]
    },
    {
     "data": {
      "text/plain": [
       "'Explanation:\\nKeyError is caught when you try to access a key that does not exist in the dictionary.\\nThe program will print an error message indicating that the key is not found.'"
      ]
     },
     "execution_count": 32,
     "metadata": {},
     "output_type": "execute_result"
    }
   ],
   "source": [
    "#11. Write a Python program that uses a try-except block to handle an error when attempting to access a dictionary key that doesn't exist.\n",
    "\n",
    "def access_key_in_dict(my_dict, key):\n",
    "    try:\n",
    "        value = my_dict[key]\n",
    "        print(f\"The value for the key '{key}' is: {value}\")\n",
    "    except KeyError:\n",
    "        print(f\"Error: The key '{key}' does not exist in the dictionary.\")\n",
    "\n",
    "# Example usage\n",
    "my_dict = {'name': 'Alice', 'age': 25}\n",
    "access_key_in_dict(my_dict, 'address')  # Key 'address' does not exist\n",
    "\n",
    "'''Explanation:\n",
    "KeyError is caught when you try to access a key that does not exist in the dictionary.\n",
    "The program will print an error message indicating that the key is not found.'''"
   ]
  },
  {
   "cell_type": "code",
   "execution_count": 33,
   "id": "d9b2a96e-7a81-4acb-9b51-13ab84d15724",
   "metadata": {},
   "outputs": [
    {
     "name": "stdout",
     "output_type": "stream",
     "text": [
      "Error: Division by zero is not allowed.\n",
      "Error: Index out of range.\n",
      "Error: Invalid input, not a number.\n"
     ]
    },
    {
     "data": {
      "text/plain": [
       "'Explanation:\\nEach exception type is handled in its own except block (e.g., ZeroDivisionError, IndexError, ValueError).\\nThe program handles each specific error and prints a corresponding message.'"
      ]
     },
     "execution_count": 33,
     "metadata": {},
     "output_type": "execute_result"
    }
   ],
   "source": [
    "#12.  Write a program that demonstrates using multiple except blocks to handle different types of exceptions.\n",
    "\n",
    "def handle_multiple_exceptions():\n",
    "    try:\n",
    "        # Example 1: Zero Division Error\n",
    "        x = 10 / 0\n",
    "        \n",
    "    except ZeroDivisionError:\n",
    "        print(\"Error: Division by zero is not allowed.\")\n",
    "    \n",
    "    try:\n",
    "        # Example 2: Index Error\n",
    "        my_list = [1, 2, 3]\n",
    "        print(my_list[5])\n",
    "        \n",
    "    except IndexError:\n",
    "        print(\"Error: Index out of range.\")\n",
    "    \n",
    "    try:\n",
    "        # Example 3: Value Error\n",
    "        num = int(\"abc\")\n",
    "        \n",
    "    except ValueError:\n",
    "        print(\"Error: Invalid input, not a number.\")\n",
    "\n",
    "# Call the function\n",
    "handle_multiple_exceptions()\n",
    "\n",
    "'''Explanation:\n",
    "Each exception type is handled in its own except block (e.g., ZeroDivisionError, IndexError, ValueError).\n",
    "The program handles each specific error and prints a corresponding message.'''"
   ]
  },
  {
   "cell_type": "code",
   "execution_count": 34,
   "id": "1b14e4a1-c4b1-4eb9-be88-2b1c39a75692",
   "metadata": {},
   "outputs": [
    {
     "name": "stdout",
     "output_type": "stream",
     "text": [
      "Hello, World!This is the new line of text.\n",
      "\n"
     ]
    }
   ],
   "source": [
    "#13. How would you check if a file exists before attempting to read it in Python?\n",
    "'''To check if a file exists before attempting to read it in Python, you can use the os.path.exists() method.'''\n",
    "#Example:\n",
    "import os\n",
    "\n",
    "file_path = 'example.txt'\n",
    "\n",
    "if os.path.exists(file_path):\n",
    "    with open(file_path, 'r') as file:\n",
    "        content = file.read()\n",
    "        print(content)\n",
    "else:\n",
    "    print(\"File does not exist.\")\n"
   ]
  },
  {
   "cell_type": "code",
   "execution_count": 35,
   "id": "b6e07b9f-41a1-4d2f-af6f-8e263901af24",
   "metadata": {},
   "outputs": [
    {
     "name": "stderr",
     "output_type": "stream",
     "text": [
      "INFO:root:This is an informational message.\n",
      "ERROR:root:Error occurred: division by zero\n"
     ]
    },
    {
     "name": "stdout",
     "output_type": "stream",
     "text": [
      "Logs have been written to 'app.log'.\n"
     ]
    },
    {
     "data": {
      "text/plain": [
       "'In this code:\\n\\nlogging.info() logs informational messages.\\nlogging.error() logs error messages.\\nThe log messages are saved in a file named app.log.'"
      ]
     },
     "execution_count": 35,
     "metadata": {},
     "output_type": "execute_result"
    }
   ],
   "source": [
    "#14. Write a program that uses the logging module to log both informational and error messages.\n",
    "\n",
    "import logging\n",
    "\n",
    "# Set up logging configuration\n",
    "logging.basicConfig(filename='app.log', level=logging.DEBUG, format='%(asctime)s - %(levelname)s - %(message)s')\n",
    "\n",
    "# Log an informational message\n",
    "logging.info('This is an informational message.')\n",
    "\n",
    "# Log an error message\n",
    "try:\n",
    "    1 / 0\n",
    "except ZeroDivisionError as e:\n",
    "    logging.error(f'Error occurred: {e}')\n",
    "\n",
    "print(\"Logs have been written to 'app.log'.\")\n",
    "\n",
    "'''In this code:\n",
    "\n",
    "logging.info() logs informational messages.\n",
    "logging.error() logs error messages.\n",
    "The log messages are saved in a file named app.log.'''"
   ]
  },
  {
   "cell_type": "code",
   "execution_count": 36,
   "id": "cc513be4-c9ef-4da9-b65d-a0de97632931",
   "metadata": {},
   "outputs": [
    {
     "name": "stdout",
     "output_type": "stream",
     "text": [
      "File content:\n",
      "Hello, World!This is the new line of text.\n",
      "\n"
     ]
    },
    {
     "data": {
      "text/plain": [
       "\"This code:\\n\\nOpens the file in read mode.\\nPrints a message if the file is empty.\\nHandles the FileNotFoundError exception if the file doesn't exist.\""
      ]
     },
     "execution_count": 36,
     "metadata": {},
     "output_type": "execute_result"
    }
   ],
   "source": [
    "#15. Write a Python program that prints the content of a file and handles the case when the file is empty.\n",
    "\n",
    "def read_file(file_path):\n",
    "    try:\n",
    "        with open(file_path, 'r') as file:\n",
    "            content = file.read()\n",
    "            if not content:\n",
    "                print(\"The file is empty.\")\n",
    "            else:\n",
    "                print(\"File content:\")\n",
    "                print(content)\n",
    "    except FileNotFoundError:\n",
    "        print(f\"Error: The file at {file_path} was not found.\")\n",
    "\n",
    "# Example usage\n",
    "file_path = 'example.txt'  \n",
    "read_file(file_path)\n",
    "\n",
    "'''This code:\n",
    "\n",
    "Opens the file in read mode.\n",
    "Prints a message if the file is empty.\n",
    "Handles the FileNotFoundError exception if the file doesn't exist.'''"
   ]
  },
  {
   "cell_type": "code",
   "execution_count": 44,
   "id": "7f38d3e3-7862-4e5f-aa05-a86edef2c098",
   "metadata": {},
   "outputs": [
    {
     "name": "stdout",
     "output_type": "stream",
     "text": [
      "Requirement already satisfied: memory_profiler in c:\\users\\sksah\\appdata\\local\\programs\\python\\python313\\lib\\site-packages (0.61.0)ERROR: Could not find file C:\\Users\\sksah\\AppData\\Local\\Temp\\ipykernel_5676\\2292057887.py\n",
      "\n",
      "Requirement already satisfied: psutil in c:\\users\\sksah\\appdata\\local\\programs\\python\\python313\\lib\\site-packages (from memory_profiler) (6.1.0)\n"
     ]
    },
    {
     "data": {
      "text/plain": [
       "'Run the script and observe memory usage line-by-line. \\nThe @profile decorator will display memory consumption for the function my_function.'"
      ]
     },
     "execution_count": 44,
     "metadata": {},
     "output_type": "execute_result"
    }
   ],
   "source": [
    "#16.  Demonstrate how to use memory profiling to check the memory usage of a small program.\n",
    "'''To check the memory usage of a Python program, you can use the memory_profiler module.\n",
    "Here's an example of how to use it to profile memory usage:'''\n",
    "#1.First, install the memory_profiler module:\n",
    "!pip install memory_profiler\n",
    "\n",
    "\n",
    "#2.Then, you can use it in your program:\n",
    "from memory_profiler import profile\n",
    "\n",
    "@profile\n",
    "def my_function():\n",
    "    a = [1] * (10**6)  # Create a large list\n",
    "    b = [2] * (2 * 10**7)  # Create another large list\n",
    "    del b  # Delete the list to see memory release\n",
    "    return a\n",
    "\n",
    "if __name__ == \"__main__\":\n",
    "    my_function()\n",
    "\n",
    "\n",
    "\n",
    "'''Run the script and observe memory usage line-by-line. \n",
    "The @profile decorator will display memory consumption for the function my_function.'''\n"
   ]
  },
  {
   "cell_type": "code",
   "execution_count": 45,
   "id": "d0e049cb-7e2e-4e0f-ab92-5ae37723cfd3",
   "metadata": {},
   "outputs": [
    {
     "name": "stdout",
     "output_type": "stream",
     "text": [
      "Numbers written to file successfully.\n"
     ]
    },
    {
     "data": {
      "text/plain": [
       "'This program opens a file named numbers.txt,\\nwrites each number from the list numbers on a new line,\\nand closes the file automatically after writing using the with statement.'"
      ]
     },
     "execution_count": 45,
     "metadata": {},
     "output_type": "execute_result"
    }
   ],
   "source": [
    "#17. Write a Python program to create and write a list of numbers to a file, one number per line.\n",
    "\n",
    "# List of numbers\n",
    "numbers = [1, 2, 3, 4, 5]\n",
    "\n",
    "# Open a file in write mode\n",
    "with open(\"numbers.txt\", \"w\") as file:\n",
    "    # Write each number to the file, one per line\n",
    "    for number in numbers:\n",
    "        file.write(f\"{number}\\n\")\n",
    "\n",
    "print(\"Numbers written to file successfully.\")\n",
    "\n",
    "'''This program opens a file named numbers.txt,\n",
    "writes each number from the list numbers on a new line,\n",
    "and closes the file automatically after writing using the with statement.'''"
   ]
  },
  {
   "cell_type": "code",
   "execution_count": 46,
   "id": "4802b11f-0921-47ce-9e79-cd9e33b3c1c6",
   "metadata": {},
   "outputs": [
    {
     "name": "stderr",
     "output_type": "stream",
     "text": [
      "DEBUG:my_logger:This is a debug message.\n",
      "INFO:my_logger:This is an info message.\n",
      "WARNING:my_logger:This is a warning message.\n"
     ]
    },
    {
     "data": {
      "text/plain": [
       "'In this example:\\n\\nThe log file will be my_log.log.\\nThe file will rotate after it reaches 1MB (maxBytes=1e6).\\nThe backupCount=3 will keep three old log files as backups.'"
      ]
     },
     "execution_count": 46,
     "metadata": {},
     "output_type": "execute_result"
    }
   ],
   "source": [
    "#18. How would you implement a basic logging setup that logs to a file with rotation after 1MB?\n",
    "\n",
    "import logging\n",
    "from logging.handlers import RotatingFileHandler\n",
    "\n",
    "# Set up logging\n",
    "logger = logging.getLogger('my_logger')\n",
    "logger.setLevel(logging.DEBUG)\n",
    "\n",
    "# Create a rotating file handler that will rotate after 1MB\n",
    "handler = RotatingFileHandler('my_log.log', maxBytes=1e6, backupCount=3)\n",
    "handler.setLevel(logging.DEBUG)\n",
    "\n",
    "# Create a formatter and set it for the handler\n",
    "formatter = logging.Formatter('%(asctime)s - %(levelname)s - %(message)s')\n",
    "handler.setFormatter(formatter)\n",
    "\n",
    "# Add the handler to the logger\n",
    "logger.addHandler(handler)\n",
    "\n",
    "# Log some messages\n",
    "logger.debug('This is a debug message.')\n",
    "logger.info('This is an info message.')\n",
    "logger.warning('This is a warning message.')\n",
    "\n",
    "'''In this example:\n",
    "\n",
    "The log file will be my_log.log.\n",
    "The file will rotate after it reaches 1MB (maxBytes=1e6).\n",
    "The backupCount=3 will keep three old log files as backups.'''"
   ]
  },
  {
   "cell_type": "code",
   "execution_count": 47,
   "id": "36378326-5837-4487-ab71-d4f377518475",
   "metadata": {},
   "outputs": [
    {
     "name": "stdout",
     "output_type": "stream",
     "text": [
      "IndexError: List index out of range.\n"
     ]
    },
    {
     "data": {
      "text/plain": [
       "'In this example:\\n\\nIt raises an IndexError when trying to access an invalid index in the list.\\nIt raises a KeyError when trying to access a non-existent key in the dictionary. Both exceptions are caught and handled with appropriate messages.'"
      ]
     },
     "execution_count": 47,
     "metadata": {},
     "output_type": "execute_result"
    }
   ],
   "source": [
    "#19. Write a program that handles both IndexError and KeyError using a try-except block.\n",
    "\n",
    "def handle_errors():\n",
    "    # Example data\n",
    "    my_list = [1, 2, 3]\n",
    "    my_dict = {'a': 1, 'b': 2}\n",
    "\n",
    "    try:\n",
    "        # Attempting to access an index that doesn't exist in the list\n",
    "        print(my_list[5])\n",
    "        \n",
    "        # Attempting to access a key that doesn't exist in the dictionary\n",
    "        print(my_dict['c'])\n",
    "    \n",
    "    except IndexError:\n",
    "        print(\"IndexError: List index out of range.\")\n",
    "    \n",
    "    except KeyError:\n",
    "        print(\"KeyError: Key not found in the dictionary.\")\n",
    "\n",
    "# Call the function\n",
    "handle_errors()\n",
    "\n",
    "'''In this example:\n",
    "\n",
    "It raises an IndexError when trying to access an invalid index in the list.\n",
    "It raises a KeyError when trying to access a non-existent key in the dictionary. Both exceptions are caught and handled with appropriate messages.'''"
   ]
  },
  {
   "cell_type": "code",
   "execution_count": 48,
   "id": "25956c10-f62d-4144-bab1-68bf9f2f903e",
   "metadata": {},
   "outputs": [
    {
     "name": "stdout",
     "output_type": "stream",
     "text": [
      "Hello, World!This is the new line of text.\n",
      "\n"
     ]
    },
    {
     "data": {
      "text/plain": [
       "\"In this code:\\n\\nThe with open() statement opens the file example.txt for reading ('r' mode).\\nThe file is automatically closed when the block of code inside the with statement is completed.\""
      ]
     },
     "execution_count": 48,
     "metadata": {},
     "output_type": "execute_result"
    }
   ],
   "source": [
    "#20. How would you open a file and read its contents using a context manager in Python?\n",
    "'''We can use a context manager (the with statement) to open and read a file in Python.\n",
    "This ensures that the file is properly closed after its contents are read, even if an error occurs.'''\n",
    "#Here’s an example:\n",
    "with open('example.txt', 'r') as file:\n",
    "    content = file.read()\n",
    "    print(content)\n",
    "\n",
    "'''In this code:\n",
    "\n",
    "The with open() statement opens the file example.txt for reading ('r' mode).\n",
    "The file is automatically closed when the block of code inside the with statement is completed.'''"
   ]
  },
  {
   "cell_type": "code",
   "execution_count": 49,
   "id": "3c43c405-8aff-45c3-9710-d29d92105e8b",
   "metadata": {},
   "outputs": [
    {
     "name": "stdout",
     "output_type": "stream",
     "text": [
      "The word 'python' appears 0 times in the file.\n"
     ]
    },
    {
     "data": {
      "text/plain": [
       "'Explanation:\\n\\nThe program reads the content of the file.\\nIt counts the occurrences of the given word, ignoring case.\\nIt handles errors like the file not being found.'"
      ]
     },
     "execution_count": 49,
     "metadata": {},
     "output_type": "execute_result"
    }
   ],
   "source": [
    "#21. Write a Python program that reads a file and prints the number of occurrences of a specific word.\n",
    "\n",
    "def count_word_occurrences(file_path, word):\n",
    "    try:\n",
    "        with open(file_path, 'r') as file:\n",
    "            content = file.read()\n",
    "            word_count = content.lower().split().count(word.lower())\n",
    "        return word_count\n",
    "    except FileNotFoundError:\n",
    "        print(\"File not found.\")\n",
    "        return 0\n",
    "\n",
    "# Example usage\n",
    "file_path = 'example.txt' \n",
    "word = 'python'  \n",
    "count = count_word_occurrences(file_path, word)\n",
    "print(f\"The word '{word}' appears {count} times in the file.\")\n",
    "\n",
    "'''Explanation:\n",
    "\n",
    "The program reads the content of the file.\n",
    "It counts the occurrences of the given word, ignoring case.\n",
    "It handles errors like the file not being found.'''"
   ]
  },
  {
   "cell_type": "code",
   "execution_count": 50,
   "id": "c353ecf9-97ae-410d-8fcf-df6c9cbb2c89",
   "metadata": {},
   "outputs": [
    {
     "name": "stdout",
     "output_type": "stream",
     "text": [
      "Hello, World!This is the new line of text.\n",
      "\n"
     ]
    },
    {
     "data": {
      "text/plain": [
       "\"This program checks the file size using os.stat() and proceeds to read it only if it's not empty.\""
      ]
     },
     "execution_count": 50,
     "metadata": {},
     "output_type": "execute_result"
    }
   ],
   "source": [
    "#22. How can you check if a file is empty before attempting to read its contents?\n",
    "'''To check if a file is empty before attempting to read its contents, \n",
    "you can use the os module to check the file's size. Here's an example:'''\n",
    "\n",
    "import os\n",
    "\n",
    "def is_file_empty(file_path):\n",
    "    return os.stat(file_path).st_size == 0\n",
    "\n",
    "# Example usage\n",
    "file_path = 'example.txt' \n",
    "if is_file_empty(file_path):\n",
    "    print(\"The file is empty.\")\n",
    "else:\n",
    "    with open(file_path, 'r') as file:\n",
    "        content = file.read()\n",
    "        print(content)\n",
    "\n",
    "'''This program checks the file size using os.stat() and proceeds to read it only if it's not empty.'''\n"
   ]
  },
  {
   "cell_type": "code",
   "execution_count": 51,
   "id": "0bbe8ba8-75cf-4130-87dd-7b193e159455",
   "metadata": {},
   "outputs": [
    {
     "name": "stderr",
     "output_type": "stream",
     "text": [
      "ERROR:root:File not found: [Errno 2] No such file or directory: 'non_existent_file.txt'\n"
     ]
    },
    {
     "name": "stdout",
     "output_type": "stream",
     "text": [
      "Error: The file was not found.\n"
     ]
    },
    {
     "data": {
      "text/plain": [
       "'This program logs any FileNotFoundError or IOError that occurs while attempting to read a file into error_log.txt.'"
      ]
     },
     "execution_count": 51,
     "metadata": {},
     "output_type": "execute_result"
    }
   ],
   "source": [
    "#23.  Write a Python program that writes to a log file when an error occurs during file handling.\n",
    "\n",
    "import logging\n",
    "\n",
    "# Set up logging to write errors to a log file\n",
    "logging.basicConfig(filename='error_log.txt', level=logging.ERROR)\n",
    "\n",
    "def read_file(file_path):\n",
    "    try:\n",
    "        with open(file_path, 'r') as file:\n",
    "            content = file.read()\n",
    "            print(content)\n",
    "    except FileNotFoundError as e:\n",
    "        logging.error(f\"File not found: {e}\")\n",
    "        print(\"Error: The file was not found.\")\n",
    "    except IOError as e:\n",
    "        logging.error(f\"IOError occurred: {e}\")\n",
    "        print(\"Error: An IOError occurred while reading the file.\")\n",
    "\n",
    "# Example usage\n",
    "file_path = 'non_existent_file.txt'  \n",
    "read_file(file_path)\n",
    "\n",
    "'''This program logs any FileNotFoundError or IOError that occurs while attempting to read a file into error_log.txt.'''"
   ]
  },
  {
   "cell_type": "code",
   "execution_count": null,
   "id": "038c7700-5b05-415f-94f1-88a9dd9b8381",
   "metadata": {},
   "outputs": [],
   "source": []
  }
 ],
 "metadata": {
  "kernelspec": {
   "display_name": "Python 3 (ipykernel)",
   "language": "python",
   "name": "python3"
  },
  "language_info": {
   "codemirror_mode": {
    "name": "ipython",
    "version": 3
   },
   "file_extension": ".py",
   "mimetype": "text/x-python",
   "name": "python",
   "nbconvert_exporter": "python",
   "pygments_lexer": "ipython3",
   "version": "3.13.0"
  }
 },
 "nbformat": 4,
 "nbformat_minor": 5
}
